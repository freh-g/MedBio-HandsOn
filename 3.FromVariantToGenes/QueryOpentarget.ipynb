{
 "cells": [
  {
   "cell_type": "markdown",
   "id": "862b111e",
   "metadata": {},
   "source": [
    "<b>Once the genetic loci correlated to a specific trait have been successfully detected, understanding how the variants are affecting the downstream biological pathways is not a trivial task. In opposition to Mendelian disorders in which a variant is affecting a gene and causing the phenotype, non-communicable diseases (NCDs) are highly polygenic disorders in which the phenotype is influenced by an interplay of numerous low-effect SNPs and environmental factors. Moreover, most of the times the SNPs are falling outside coding regions not directly affecting the sequence of a gene and are in close relation one to each other a phenomenon called linkage disequilibrium (LD).\n",
    "In this view, understanding which are the causal variants as well as how the genes are affected by them is not a trivial task.\n",
    "\n"
   ]
  },
  {
   "cell_type": "markdown",
   "id": "1ad1b042",
   "metadata": {},
   "source": [
    "![title](Locus.png)"
   ]
  },
  {
   "cell_type": "markdown",
   "id": "5b077965",
   "metadata": {},
   "source": [
    "<b>Nowadays is plenty of repositories that collect the output of GWAS where the SNPs are correlated with a trait of interest with a P-value and the effect size of the variant, however the common practice in the case of a SNP falling in a non-coding region of the genome is to assign the closest gene as the functional element.\n",
    "\n",
    "    \n",
    "<b>In the last few years however, many works have tried to move on this poor practice by implementing diverse statistical methods, genomics data and tools to obtain a better understanding on how a non-coding variant could affect the phenotype.\n",
    "A remarkable work was carried out from <a href=\"https://genetics.opentargets.org/\"> Open Target Genetics Portal</a> in which they integrate functional and biological data from multiple sources to detect functionally implicated genes in complex traits.\n",
    "    \n",
    "<b> In particular they built a pipeline consisting of several steps;\n",
    "    <ul>\n",
    "      <li>Conditional Analysis: determine different signals at a locus</li>\n",
    "      <li>Fine mapping: determine the trait-causal variants posterior probabilities (PP)</li>\n",
    "      <li>Colocalization: determine the effect of variants on neighbouring genes expression</li>\n",
    "      <li>Multiple data mining to describe each GWAS locus</li>\n",
    "      <li>Machine learning model to learn feature importance and prioritize genes at GWAS loci</li>\n",
    "    </ul>\n",
    "        By programmatically querying the (Application Programming Interface) API of this database we will obtain a set of genes likely affected by the trait-associated variants we’ve obtained.\n"
   ]
  },
  {
   "cell_type": "code",
   "execution_count": 2,
   "id": "c54014e8",
   "metadata": {},
   "outputs": [],
   "source": [
    "import sys\n",
    "sys.path.insert(1, '../../scripts/')\n",
    "import wrappers as wr\n",
    "import requests"
   ]
  },
  {
   "cell_type": "code",
   "execution_count": 4,
   "id": "ad5221ca",
   "metadata": {},
   "outputs": [],
   "source": [
    "def QueryOT(ListofVariants,score=0.1,output='genes'):\n",
    "    query=\"\"\"{\n",
    "              genesForVariant(variantId:\"%s\"){\n",
    "                overallScore\n",
    "                gene{id}\n",
    "              }\n",
    "            }\n",
    "            \"\"\"\n",
    "    OT_url='https://api.genetics.opentargets.org/graphql'\n",
    "    \n",
    "    results={}\n",
    "    for variant in ListofVariants:\n",
    "        r = requests.post(OT_url, json={'query': query % (variant)})\n",
    "        r = r.json()\n",
    "        ResultsForVariant=[]\n",
    "        for data in r['data']['genesForVariant']:\n",
    "            ResultsForVariant.append((data['gene']['id'],data['overallScore']))\n",
    "        results[variant]=ResultsForVariant\n",
    "    if output=='all':\n",
    "        return results\n",
    "    elif output=='GenScor':\n",
    "        return {key:[value for value in values if value[1]>score] for (key,values) in results.items()}\n",
    "    else:\n",
    "        return list(set(sum([[value[0] for value in values if value[1]>score] for (key,values) in results.items()],[])))\n",
    "    \n",
    "            \n",
    "            \n",
    "    "
   ]
  },
  {
   "cell_type": "code",
   "execution_count": 5,
   "id": "b4733a74",
   "metadata": {},
   "outputs": [],
   "source": [
    "def ConvertVariants(ListOfVariants,source='variantid',target='rsid'):\n",
    "    \n",
    "    OT_url='https://api.genetics.opentargets.org/graphql'\n",
    "    MappingDict={}\n",
    "    if (source=='variantid') & (target=='rsid'):\n",
    "        query=\"\"\"{\n",
    "               variantInfo(variantId:\"%s\"){\n",
    "                   rsId\n",
    "                   }\n",
    "              }\"\"\"\n",
    "        for variant in ListOfVariants:\n",
    "            r = requests.post(OT_url, json={'query': query % (variant)})\n",
    "            JsonResponse=r.json()\n",
    "            MappingDict[variant]=JsonResponse['data']['variantInfo']['rsId']\n",
    "        return list(map(MappingDict.get,ListOfVariants))\n",
    "\n",
    "    elif (source=='rsid') & (target=='variantid'):\n",
    "        query=\"\"\"{\n",
    "              search(queryString:\"%s\"){\n",
    "                  variants{\n",
    "                      id\n",
    "                      }\n",
    "                   }\n",
    "              }\n",
    "              \"\"\"\n",
    "        for variant in ListOfVariants:\n",
    "            r = requests.post(OT_url, json={'query': query % (variant)})\n",
    "            JsonResponse=r.json()\n",
    "            MappingDict[variant]=JsonResponse['data']['search']['variants'][0]['id']\n",
    "        return list(map(MappingDict.get,ListOfVariants))\n",
    "\n",
    "\n",
    "\n",
    "\n",
    "\n",
    "    "
   ]
  },
  {
   "cell_type": "code",
   "execution_count": 8,
   "id": "6f2d83a5",
   "metadata": {},
   "outputs": [
    {
     "data": {
      "text/plain": [
       "['1_154453788_C_T', '1_154422736_C_A']"
      ]
     },
     "execution_count": 8,
     "metadata": {},
     "output_type": "execute_result"
    }
   ],
   "source": [
    "ConvertVariants(rsids,source='rsid',target='variantid')"
   ]
  },
  {
   "cell_type": "code",
   "execution_count": 7,
   "id": "a8e43902",
   "metadata": {},
   "outputs": [],
   "source": [
    "rsids=ConvertVariants(Variants)"
   ]
  },
  {
   "cell_type": "code",
   "execution_count": 8,
   "id": "2e7500b9",
   "metadata": {},
   "outputs": [
    {
     "data": {
      "text/plain": [
       "['rs4129267', 'rs4133213']"
      ]
     },
     "execution_count": 8,
     "metadata": {},
     "output_type": "execute_result"
    }
   ],
   "source": [
    "rsids"
   ]
  },
  {
   "cell_type": "code",
   "execution_count": 11,
   "id": "2cfc8709",
   "metadata": {},
   "outputs": [],
   "source": [
    "genes=QueryOT(Variants)"
   ]
  },
  {
   "cell_type": "code",
   "execution_count": 13,
   "id": "a245d94f",
   "metadata": {},
   "outputs": [
    {
     "data": {
      "text/plain": [
       "[55585, 3570]"
      ]
     },
     "execution_count": 13,
     "metadata": {},
     "output_type": "execute_result"
    }
   ],
   "source": [
    "Entrez=wr.gene_mapping_many(genes,'ensembl','entrez')"
   ]
  },
  {
   "cell_type": "code",
   "execution_count": null,
   "id": "12cb1ebe",
   "metadata": {},
   "outputs": [],
   "source": []
  }
 ],
 "metadata": {
  "kernelspec": {
   "display_name": "Network_visualization",
   "language": "python",
   "name": "network_visualization"
  },
  "language_info": {
   "codemirror_mode": {
    "name": "ipython",
    "version": 3
   },
   "file_extension": ".py",
   "mimetype": "text/x-python",
   "name": "python",
   "nbconvert_exporter": "python",
   "pygments_lexer": "ipython3",
   "version": "3.9.11"
  }
 },
 "nbformat": 4,
 "nbformat_minor": 5
}
